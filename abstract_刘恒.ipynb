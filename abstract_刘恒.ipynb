{
  "nbformat": 4,
  "nbformat_minor": 0,
  "metadata": {
    "colab": {
      "name": "abstract_6.ipynb",
      "provenance": []
    },
    "kernelspec": {
      "name": "python3",
      "display_name": "Python 3"
    },
    "language_info": {
      "name": "python"
    }
  },
  "cells": [
    {
      "cell_type": "code",
      "source": [
        "# 统计生活服务场所频数\n",
        "data4=pd.read_json('/content/Urban-Spatial-Data-Analysis_python/notebook/BaiduMapPOIcollection_ipynb/data/xianPOI_36/poi_3_lifeService.json')\n",
        "\n",
        "data4[\"name\"].value_counts()"
      ],
      "metadata": {
        "id": "4VqLg8EmoJiN",
        "outputId": "4df4b3e7-3728-4183-c561-b3f6743b7379",
        "colab": {
          "base_uri": "https://localhost:8080/"
        }
      },
      "execution_count": null,
      "outputs": [
        {
          "output_type": "execute_result",
          "data": {
            "text/plain": [
              "公共厕所                 290\n",
              "直梯(客梯)               267\n",
              "楼梯                   244\n",
              "公厕                   184\n",
              "中国福利彩票               160\n",
              "                    ... \n",
              "浪漫情缘                   1\n",
              "陕西塞马外连国际旅行社            1\n",
              "社区便民回收站(长安NO.014)      1\n",
              "北新街钥匙锁具                1\n",
              "万博家电维修部                1\n",
              "Name: name, Length: 5328, dtype: int64"
            ]
          },
          "metadata": {},
          "execution_count": 73
        }
      ]
    }
  ]
}