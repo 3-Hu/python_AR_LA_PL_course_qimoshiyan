{
  "nbformat": 4,
  "nbformat_minor": 0,
  "metadata": {
    "colab": {
      "name": "abstract_5.ipynb",
      "provenance": []
    },
    "kernelspec": {
      "name": "python3",
      "display_name": "Python 3"
    },
    "language_info": {
      "name": "python"
    }
  },
  "cells": [
    {
      "cell_type": "code",
      "source": [
        "# 统计购物场所频数\n",
        "data4=pd.read_json('/content/Urban-Spatial-Data-Analysis_python/notebook/BaiduMapPOIcollection_ipynb/data/xianPOI_36/poi_2_shopping.json')\n",
        "\n",
        "data4[\"name\"].value_counts()"
      ],
      "metadata": {
        "id": "Un5GOeSVoJHp",
        "outputId": "9e5db5d0-7174-495a-c5d5-4a80848ffa26",
        "colab": {
          "base_uri": "https://localhost:8080/"
        }
      },
      "execution_count": null,
      "outputs": [
        {
          "output_type": "execute_result",
          "data": {
            "text/plain": [
              "壳牌便利店            18\n",
              "昆仑好客             13\n",
              "雅迪电动车            12\n",
              "自动售货机            12\n",
              "日丰管              10\n",
              "                 ..\n",
              "李文锁城(户县店)         1\n",
              "西安远大博世共轨油泵油嘴      1\n",
              "汉中大米专卖            1\n",
              "终南酒业              1\n",
              "Class Cavalli     1\n",
              "Name: name, Length: 10820, dtype: int64"
            ]
          },
          "metadata": {},
          "execution_count": 74
        }
      ]
    }
  ]
}