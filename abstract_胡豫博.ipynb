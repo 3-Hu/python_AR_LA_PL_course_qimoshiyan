{
  "nbformat": 4,
  "nbformat_minor": 0,
  "metadata": {
    "colab": {
      "name": "abstract_3.ipynb",
      "provenance": []
    },
    "kernelspec": {
      "name": "python3",
      "display_name": "Python 3"
    },
    "language_info": {
      "name": "python"
    }
  },
  "cells": [
    {
      "cell_type": "code",
      "source": [
        "# 统计教育场所频数\n",
        "data4=pd.read_json('/content/Urban-Spatial-Data-Analysis_python/notebook/BaiduMapPOIcollection_ipynb/data/xianPOI_36/poi_8_education.json')\n",
        "\n",
        "data4[\"name\"].value_counts()"
      ],
      "metadata": {
        "id": "_LQl74SEoILm",
        "outputId": "e1a5fc76-9841-453c-d507-7dd9b002c964",
        "colab": {
          "base_uri": "https://localhost:8080/"
        }
      },
      "execution_count": null,
      "outputs": [
        {
          "output_type": "execute_result",
          "data": {
            "text/plain": [
              "员工区域              39\n",
              "恒通驾校               8\n",
              "庆华驾校               8\n",
              "富民驾校               7\n",
              "西部驾校               5\n",
              "                  ..\n",
              "西安闰润雨学苑            1\n",
              "陕西省游泳馆-暑期游泳培训班     1\n",
              "怡园育才辅导学校           1\n",
              "陕西省民政干部培训中心        1\n",
              "七色花美术班             1\n",
              "Name: name, Length: 1514, dtype: int64"
            ]
          },
          "metadata": {},
          "execution_count": 76
        }
      ]
    }
  ]
}