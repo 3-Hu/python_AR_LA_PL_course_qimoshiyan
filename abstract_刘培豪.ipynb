{
  "nbformat": 4,
  "nbformat_minor": 0,
  "metadata": {
    "colab": {
      "name": "abstract_4.ipynb",
      "provenance": []
    },
    "kernelspec": {
      "name": "python3",
      "display_name": "Python 3"
    },
    "language_info": {
      "name": "python"
    }
  },
  "cells": [
    {
      "cell_type": "code",
      "source": [
        "# 统计交通场所频数\n",
        "data4=pd.read_json('/content/Urban-Spatial-Data-Analysis_python/notebook/BaiduMapPOIcollection_ipynb/data/xianPOI_36/poi_12_trafficFacilities.json')\n",
        "\n",
        "data4[\"name\"].value_counts()"
      ],
      "metadata": {
        "id": "dtYggp5goIth",
        "outputId": "df091826-9e1e-4fcd-c843-1f991f1b40b4",
        "colab": {
          "base_uri": "https://localhost:8080/"
        }
      },
      "execution_count": null,
      "outputs": [
        {
          "output_type": "execute_result",
          "data": {
            "text/plain": [
              "停车场               185\n",
              "加油站                16\n",
              "自行车租赁点             13\n",
              "地下停车场               9\n",
              "陇海线                 9\n",
              "                 ... \n",
              "G310/Y223(路口)       1\n",
              "停车场(都市领航东北)         1\n",
              "停车场(清泰南路)           1\n",
              "铁塔寺北街/铁塔寺路(路口)      1\n",
              "阿房二路/阿房路(路口)        1\n",
              "Name: name, Length: 7107, dtype: int64"
            ]
          },
          "metadata": {},
          "execution_count": 75
        }
      ]
    }
  ]
}