{
  "nbformat": 4,
  "nbformat_minor": 0,
  "metadata": {
    "colab": {
      "name": "abstract_1.ipynb",
      "provenance": []
    },
    "kernelspec": {
      "name": "python3",
      "display_name": "Python 3"
    },
    "language_info": {
      "name": "python"
    }
  },
  "cells": [
    {
      "cell_type": "code",
      "source": [
        "# 统计体育场所频数\n",
        "data4=pd.read_json('/content/Urban-Spatial-Data-Analysis_python/notebook/BaiduMapPOIcollection_ipynb/data/xianPOI_36/poi_5_spot.json')\n",
        "\n",
        "data4[\"name\"].value_counts()\n"
      ],
      "metadata": {
        "id": "vNCpcaRf5_dR",
        "colab": {
          "base_uri": "https://localhost:8080/"
        },
        "outputId": "8127cb40-5fe3-498f-8535-d3587df0e884"
      },
      "execution_count": null,
      "outputs": [
        {
          "output_type": "execute_result",
          "data": {
            "text/plain": [
              "儿童乐园         11\n",
              "天主堂           7\n",
              "鼓楼            3\n",
              "牡丹园           3\n",
              "基督教会          3\n",
              "             ..\n",
              "西安皇家艺术博物馆     1\n",
              "付家大院          1\n",
              "爱儿玛儿童乐园       1\n",
              "青羊湖风景区        1\n",
              "古城艺术馆         1\n",
              "Name: name, Length: 1701, dtype: int64"
            ]
          },
          "metadata": {},
          "execution_count": 72
        }
      ]
    }
  ]
}