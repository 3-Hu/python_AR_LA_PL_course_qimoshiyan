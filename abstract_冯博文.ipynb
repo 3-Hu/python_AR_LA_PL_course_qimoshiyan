{
  "nbformat": 4,
  "nbformat_minor": 0,
  "metadata": {
    "colab": {
      "name": "abstract_7.ipynb",
      "provenance": []
    },
    "kernelspec": {
      "name": "python3",
      "display_name": "Python 3"
    },
    "language_info": {
      "name": "python"
    }
  },
  "cells": [
    {
      "cell_type": "code",
      "source": [
        "# 统计媒体服务场所频数\n",
        "data4=pd.read_json('/content/poi_9_media.json')\n",
        "\n",
        "data4[\"name\"].value_counts()"
      ],
      "metadata": {
        "id": "4VqLg8EmoJiN",
        "outputId": "50bcfec1-7a42-4a07-a9d7-7429928157d0",
        "colab": {
          "base_uri": "https://localhost:8080/"
        }
      },
      "execution_count": 3,
      "outputs": [
        {
          "output_type": "execute_result",
          "data": {
            "text/plain": [
              "西安小天鹅艺术团           5\n",
              "中老年活动中心            3\n",
              "喜尚喜文化传媒            2\n",
              "工人文化宫              2\n",
              "文化活动中心             2\n",
              "                  ..\n",
              "鱼化会议中心             1\n",
              "西安富克斯语言文化传播有限公司    1\n",
              "陕西追风影视文化传播有限公司     1\n",
              "西安浩华广告文化传播有限公司     1\n",
              "梁宋村社区活动中心          1\n",
              "Name: name, Length: 1138, dtype: int64"
            ]
          },
          "metadata": {},
          "execution_count": 3
        }
      ]
    }
  ]
}