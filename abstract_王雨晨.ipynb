{
  "nbformat": 4,
  "nbformat_minor": 0,
  "metadata": {
    "colab": {
      "name": "abstract_2.ipynb",
      "provenance": []
    },
    "kernelspec": {
      "name": "python3",
      "display_name": "Python 3"
    },
    "language_info": {
      "name": "python"
    }
  },
  "cells": [
    {
      "cell_type": "code",
      "source": [
        "# 统计金融场所频数\n",
        "data4=pd.read_json('/content/Urban-Spatial-Data-Analysis_python/notebook/BaiduMapPOIcollection_ipynb/data/xianPOI_36/poi_13_finance.json')\n",
        "\n",
        "data4[\"name\"].value_counts()"
      ],
      "metadata": {
        "id": "FEQ9sM7hoG5I",
        "outputId": "004a86cb-4cbf-4401-96a2-8552db2bf165",
        "colab": {
          "base_uri": "https://localhost:8080/"
        }
      },
      "execution_count": null,
      "outputs": [
        {
          "output_type": "execute_result",
          "data": {
            "text/plain": [
              "秦农银行                   52\n",
              "中国邮政储蓄银行ATM            32\n",
              "陕西信合                   28\n",
              "农村信用合作社ATM             19\n",
              "陕西省农村信用合作社ATM          18\n",
              "                       ..\n",
              "西安银行(土门支行)              1\n",
              "中国邮政储蓄银行(大兴西路辅路)        1\n",
              "中国农业银行ATM(西安新筑分理处)      1\n",
              "中国邮政储蓄银行ATM(兴隆园邮电所)     1\n",
              "中国邮政储蓄。24小时服务           1\n",
              "Name: name, Length: 2993, dtype: int64"
            ]
          },
          "metadata": {},
          "execution_count": 77
        }
      ]
    }
  ]
}